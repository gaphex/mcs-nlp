{
 "cells": [
  {
   "cell_type": "code",
   "execution_count": null,
   "metadata": {
    "collapsed": true
   },
   "outputs": [],
   "source": []
  },
  {
   "cell_type": "code",
   "execution_count": 1,
   "metadata": {
    "collapsed": true
   },
   "outputs": [],
   "source": [
    "import numpy as np\n",
    "import lda\n",
    "import lda.datasets"
   ]
  },
  {
   "cell_type": "code",
   "execution_count": 2,
   "metadata": {},
   "outputs": [
    {
     "name": "stdout",
     "output_type": "stream",
     "text": [
      "type(X): <class 'numpy.ndarray'>\n",
      "shape: (395, 4258)\n",
      "\n",
      "type(vocab): <class 'tuple'>\n",
      "len(vocab): 4258\n",
      "\n",
      "type(titles): <class 'tuple'>\n",
      "len(titles): 395\n",
      "\n"
     ]
    }
   ],
   "source": [
    "X = lda.datasets.load_reuters()\n",
    "print(\"type(X): {}\".format(type(X)))\n",
    "print(\"shape: {}\\n\".format(X.shape))\n",
    "\n",
    "# the vocab\n",
    "vocab = lda.datasets.load_reuters_vocab()\n",
    "print(\"type(vocab): {}\".format(type(vocab)))\n",
    "print(\"len(vocab): {}\\n\".format(len(vocab)))\n",
    "\n",
    "# titles for each story\n",
    "titles = lda.datasets.load_reuters_titles()\n",
    "print(\"type(titles): {}\".format(type(titles)))\n",
    "print(\"len(titles): {}\\n\".format(len(titles)))\n",
    "\n",
    "id_to_word = dict(zip(range(len(vocab)), vocab))"
   ]
  },
  {
   "cell_type": "markdown",
   "metadata": {},
   "source": [
    "### Our data is a count-vectorized matrix similar to TF-IDF (but without the word weighting)"
   ]
  },
  {
   "cell_type": "code",
   "execution_count": 3,
   "metadata": {},
   "outputs": [
    {
     "name": "stdout",
     "output_type": "stream",
     "text": [
      "doc id: 0 word id: 3117\n",
      "-- count: 2\n",
      "-- word : heir-to-the-throne\n",
      "-- title  : 0 UK: Prince Charles spearheads British royal revolution. LONDON 1996-08-20\n",
      "-- words : ['church', 'years', 'told', 'year', 'charles', 'catholic', 'since', 'family', 'british', 'made', 'tuesday', 'million', 'prince', 'heart', 'roman', 'monday', 'state', 'diana', 'royal', 'including', 'week', 'take', 'queen', 'next', 'long', 'head', 'ago', 'members', 'century', 'whose', 'four', 'among', 'britain', 'part', 'children', '1992', 'england', 'princess', 'end', 'throne', 'go', 'law', 'help', 'role', 'every', 'palace', 'divorce', 'personal', 'secret', 'popular', 'marry', 'daughter', 'reported', 'daily', 'child', 'brother', 'leading', 'open', 'duke', 'already', 'english', 'spokeswoman', 'include', 'main', 'press', 'wants', 'admitted', 'traditional', 'newspapers', 'something', 'monarchy', 'final', 'policy', 'committee', 'play', 'pay', 'involved', 'refused', 'biggest', 'move', 'marrying', 'fashion', 'details', 'monarch', 'ban', 'twice', 'revolution', 'quickly', 'prepared', 'process', 'pound', 'considered', 'agreed', 'oldest', 'passed', 'giving', 'changes', 'reforms', 'fire', 'david', 'status', 'windsor', 'castle', 'andrew', 'buckingham', 'cabinet', 'tourists', 'allow', 'confirmed', 'ending', 'tabloid', 'express', 'rules', 'wales', '18th', 'girls', 'likely', 'edinburgh', 'succession', 'allowing', 'sweeping', 'formed', 'reportedly', 'damaged', 'expert', 'becomes', 'amount', 'collapsed', 'dubbed', 'emerged', 'grandchildren', 'mail', 'moves', 'neither', 'formally', 'laws', 'roles', 'meets', 'considering', 'marriages', 'tax', 'claimed', 'heir-to-the-throne', 'discussed', 'radical', 'troubled', 'individual', 'heads', 'none', 'ensure', 'changing', 'boys', 'priority', 'proposed', 'reign', 'strategic', 'breakdown', '1,000-year-old', 'discussion']\n"
     ]
    }
   ],
   "source": [
    "doc_id = 0\n",
    "word_id = 3117\n",
    "\n",
    "print(\"doc id: {} word id: {}\".format(doc_id, word_id))\n",
    "print(\"-- count: {}\".format(X[doc_id, word_id]))\n",
    "print(\"-- word : {}\".format(vocab[word_id]))\n",
    "print(\"-- title  : {}\".format(titles[doc_id]))\n",
    "print(\"-- words : {}\".format([id_to_word[t] for t in X[doc_id].nonzero()[0]]))"
   ]
  },
  {
   "cell_type": "markdown",
   "metadata": {},
   "source": [
    "### Fitting the model"
   ]
  },
  {
   "cell_type": "code",
   "execution_count": null,
   "metadata": {
    "collapsed": true
   },
   "outputs": [],
   "source": []
  },
  {
   "cell_type": "code",
   "execution_count": 4,
   "metadata": {},
   "outputs": [
    {
     "name": "stderr",
     "output_type": "stream",
     "text": [
      "INFO:lda:n_documents: 395\n",
      "INFO:lda:vocab_size: 4258\n",
      "INFO:lda:n_words: 84010\n",
      "INFO:lda:n_topics: 20\n",
      "INFO:lda:n_iter: 500\n",
      "INFO:lda:<0> log likelihood: -1051748\n",
      "INFO:lda:<10> log likelihood: -719800\n",
      "INFO:lda:<20> log likelihood: -699115\n",
      "INFO:lda:<30> log likelihood: -689370\n",
      "INFO:lda:<40> log likelihood: -684918\n",
      "INFO:lda:<50> log likelihood: -681322\n",
      "INFO:lda:<60> log likelihood: -678979\n",
      "INFO:lda:<70> log likelihood: -676598\n",
      "INFO:lda:<80> log likelihood: -675383\n",
      "INFO:lda:<90> log likelihood: -673316\n",
      "INFO:lda:<100> log likelihood: -672761\n",
      "INFO:lda:<110> log likelihood: -671320\n",
      "INFO:lda:<120> log likelihood: -669744\n",
      "INFO:lda:<130> log likelihood: -669292\n",
      "INFO:lda:<140> log likelihood: -667940\n",
      "INFO:lda:<150> log likelihood: -668038\n",
      "INFO:lda:<160> log likelihood: -667429\n",
      "INFO:lda:<170> log likelihood: -666475\n",
      "INFO:lda:<180> log likelihood: -665562\n",
      "INFO:lda:<190> log likelihood: -664920\n",
      "INFO:lda:<200> log likelihood: -664979\n",
      "INFO:lda:<210> log likelihood: -664722\n",
      "INFO:lda:<220> log likelihood: -664459\n",
      "INFO:lda:<230> log likelihood: -664360\n",
      "INFO:lda:<240> log likelihood: -663600\n",
      "INFO:lda:<250> log likelihood: -664164\n",
      "INFO:lda:<260> log likelihood: -663826\n",
      "INFO:lda:<270> log likelihood: -663458\n",
      "INFO:lda:<280> log likelihood: -663393\n",
      "INFO:lda:<290> log likelihood: -662904\n",
      "INFO:lda:<300> log likelihood: -662294\n",
      "INFO:lda:<310> log likelihood: -662031\n",
      "INFO:lda:<320> log likelihood: -662430\n",
      "INFO:lda:<330> log likelihood: -661601\n",
      "INFO:lda:<340> log likelihood: -662108\n",
      "INFO:lda:<350> log likelihood: -662152\n",
      "INFO:lda:<360> log likelihood: -661899\n",
      "INFO:lda:<370> log likelihood: -661012\n",
      "INFO:lda:<380> log likelihood: -661278\n",
      "INFO:lda:<390> log likelihood: -661085\n",
      "INFO:lda:<400> log likelihood: -660418\n",
      "INFO:lda:<410> log likelihood: -660510\n",
      "INFO:lda:<420> log likelihood: -660343\n",
      "INFO:lda:<430> log likelihood: -659789\n",
      "INFO:lda:<440> log likelihood: -659336\n",
      "INFO:lda:<450> log likelihood: -659039\n",
      "INFO:lda:<460> log likelihood: -659329\n",
      "INFO:lda:<470> log likelihood: -658707\n",
      "INFO:lda:<480> log likelihood: -658879\n",
      "INFO:lda:<490> log likelihood: -658819\n",
      "INFO:lda:<499> log likelihood: -658407\n"
     ]
    },
    {
     "data": {
      "text/plain": [
       "<lda.lda.LDA at 0x10f625198>"
      ]
     },
     "execution_count": 4,
     "metadata": {},
     "output_type": "execute_result"
    }
   ],
   "source": [
    "N_TOPICS = 20\n",
    "model = lda.LDA(n_topics=N_TOPICS, n_iter=500, random_state=1)\n",
    "model.fit(X)"
   ]
  },
  {
   "cell_type": "markdown",
   "metadata": {},
   "source": [
    "### The topic model for each word outputs a probability of it belonging to one of the topics"
   ]
  },
  {
   "cell_type": "code",
   "execution_count": 5,
   "metadata": {},
   "outputs": [
    {
     "name": "stdout",
     "output_type": "stream",
     "text": [
      "type(topic_word): <class 'numpy.ndarray'>\n",
      "shape: (20, 4258)\n"
     ]
    }
   ],
   "source": [
    "topic_word_distribution = model.topic_word_\n",
    "print(\"type(topic_word): {}\".format(type(topic_word_distribution)))\n",
    "print(\"shape: {}\".format(topic_word_distribution.shape))"
   ]
  },
  {
   "cell_type": "markdown",
   "metadata": {},
   "source": [
    "### The matrix rows are a valid probability distribution (all probs sum to 1)"
   ]
  },
  {
   "cell_type": "code",
   "execution_count": 7,
   "metadata": {},
   "outputs": [
    {
     "data": {
      "text/plain": [
       "array([ 1.,  1.,  1.,  1.,  1.,  1.,  1.,  1.,  1.,  1.,  1.,  1.,  1.,\n",
       "        1.,  1.,  1.,  1.,  1.,  1.,  1.])"
      ]
     },
     "execution_count": 7,
     "metadata": {},
     "output_type": "execute_result"
    }
   ],
   "source": [
    "np.sum(topic_word_distribution, axis=1)"
   ]
  },
  {
   "cell_type": "markdown",
   "metadata": {},
   "source": [
    "### Exercise 2.1\n",
    "Write a function, that for a given topic number 't', outputs 'k' top words (by probability)"
   ]
  },
  {
   "cell_type": "code",
   "execution_count": 8,
   "metadata": {
    "collapsed": true
   },
   "outputs": [],
   "source": [
    "def get_top_k_words(topic_word_prob_distribution, topic_number, top_k):\n",
    "    t1 = np.argsort(-topic_word_prob_distribution[topic_number])\n",
    "    topic_words = np.array(vocab)[t1][:top_k]\n",
    "    return topic_words"
   ]
  },
  {
   "cell_type": "code",
   "execution_count": 9,
   "metadata": {},
   "outputs": [
    {
     "name": "stdout",
     "output_type": "stream",
     "text": [
      "done\n"
     ]
    }
   ],
   "source": [
    "assert list(get_top_k_words(topic_word_distribution, 3, 5)) == ['yeltsin', 'russian', \n",
    "                                                                'russia', 'president', 'kremlin']\n",
    "print('done')"
   ]
  },
  {
   "cell_type": "code",
   "execution_count": 10,
   "metadata": {},
   "outputs": [
    {
     "name": "stdout",
     "output_type": "stream",
     "text": [
      "*Topic 1\n",
      "- government british minister west group letters party former million against\n",
      "*Topic 2\n",
      "- church first during people political country ceremony visit government died\n",
      "*Topic 3\n",
      "- elvis king wright fans presley life concert death first mark\n",
      "*Topic 4\n",
      "- yeltsin russian russia president kremlin michael romania operation orthodox moscow\n",
      "*Topic 5\n",
      "- pope vatican paul surgery pontiff john hospital rome trip mass\n",
      "*Topic 6\n",
      "- family police miami versace cunanan funeral home church kennedy city\n",
      "*Topic 7\n",
      "- south simpson born york white north african black united former\n",
      "*Topic 8\n",
      "- order church mother successor since election religious head nuns nirmala\n",
      "*Topic 9\n",
      "- charles prince diana royal queen king parker bowles camilla marriage\n",
      "*Topic 10\n",
      "- film france french against actor bardot paris magazine poster festival\n",
      "*Topic 11\n",
      "- germany german war nazi christian letter book jews scientology soviet\n",
      "*Topic 12\n",
      "- east prize peace timor belo quebec indonesia nobel award minister\n",
      "*Topic 13\n",
      "- n't told life people church show very public women come\n",
      "*Topic 14\n",
      "- years world time year last say three later news around\n",
      "*Topic 15\n",
      "- mother teresa heart charity calcutta missionaries sister order hospital nun\n",
      "*Topic 16\n",
      "- city salonika exhibition buddhist vietnam byzantine swiss capital greek gold\n",
      "*Topic 17\n",
      "- music first people tour including off opera city set singer\n",
      "*Topic 18\n",
      "- church catholic bernardin cardinal bishop death cancer life priest catholics\n",
      "*Topic 19\n",
      "- harriman clinton u.s churchill paris president ambassador france american washington\n",
      "*Topic 20\n",
      "- century art museum million city churches works left artists show\n"
     ]
    }
   ],
   "source": [
    "for i in range(N_TOPICS):\n",
    "    topic_words = get_top_k_words(topic_word_distribution, i, 10)\n",
    "    print('*Topic {}\\n- {}'.format(i+1, ' '.join(topic_words)))"
   ]
  },
  {
   "cell_type": "markdown",
   "metadata": {},
   "source": [
    "### The topic model for each document outputs a probability of it belonging to one of the topics"
   ]
  },
  {
   "cell_type": "code",
   "execution_count": 11,
   "metadata": {},
   "outputs": [
    {
     "name": "stdout",
     "output_type": "stream",
     "text": [
      "type(doc_topic): <class 'numpy.ndarray'>\n",
      "shape: (395, 20)\n"
     ]
    }
   ],
   "source": [
    "doc_topic = model.doc_topic_\n",
    "print(\"type(doc_topic): {}\".format(type(doc_topic)))\n",
    "print(\"shape: {}\".format(doc_topic.shape))"
   ]
  },
  {
   "cell_type": "code",
   "execution_count": 12,
   "metadata": {},
   "outputs": [
    {
     "data": {
      "text/plain": [
       "array([ 1.,  1.,  1.,  1.,  1.,  1.,  1.,  1.,  1.,  1.])"
      ]
     },
     "execution_count": 12,
     "metadata": {},
     "output_type": "execute_result"
    }
   ],
   "source": [
    "np.sum(doc_topic, axis=1)[:10]"
   ]
  },
  {
   "cell_type": "code",
   "execution_count": null,
   "metadata": {
    "collapsed": true
   },
   "outputs": [],
   "source": []
  },
  {
   "cell_type": "code",
   "execution_count": 13,
   "metadata": {},
   "outputs": [
    {
     "name": "stdout",
     "output_type": "stream",
     "text": [
      "doc: 0 topic: 8\n",
      "0 UK: Prince Charles spearheads British royal revolution. LONDON 1996-08-20...\n",
      "doc: 1 topic: 1\n",
      "1 GERMANY: Historic Dresden church rising from WW2 ashes. DRESDEN, Germany 1996-08-21...\n",
      "doc: 2 topic: 14\n",
      "2 INDIA: Mother Teresa's condition said still unstable. CALCUTTA 1996-08-23...\n",
      "doc: 3 topic: 8\n",
      "3 UK: Palace warns British weekly over Charles pictures. LONDON 1996-08-25...\n",
      "doc: 4 topic: 14\n",
      "4 INDIA: Mother Teresa, slightly stronger, blesses nuns. CALCUTTA 1996-08-25...\n",
      "doc: 5 topic: 14\n",
      "5 INDIA: Mother Teresa's condition unchanged, thousands pray. CALCUTTA 1996-08-25...\n",
      "doc: 6 topic: 14\n",
      "6 INDIA: Mother Teresa shows signs of strength, blesses nuns. CALCUTTA 1996-08-26...\n",
      "doc: 7 topic: 14\n",
      "7 INDIA: Mother Teresa's condition improves, many pray. CALCUTTA, India 1996-08-25...\n",
      "doc: 8 topic: 14\n",
      "8 INDIA: Mother Teresa improves, nuns pray for \"miracle\". CALCUTTA 1996-08-26...\n",
      "doc: 9 topic: 8\n",
      "9 UK: Charles under fire over prospect of Queen Camilla. LONDON 1996-08-26...\n"
     ]
    }
   ],
   "source": [
    "for n in range(10):\n",
    "    topic_most_pr = doc_topic[n].argmax()\n",
    "    print(\"doc: {} topic: {}\\n{}...\".format(n,\n",
    "                                            topic_most_pr,\n",
    "                                            titles[n]))"
   ]
  },
  {
   "cell_type": "code",
   "execution_count": null,
   "metadata": {
    "collapsed": true
   },
   "outputs": [],
   "source": []
  }
 ],
 "metadata": {
  "kernelspec": {
   "display_name": "Python 3",
   "language": "python",
   "name": "python3"
  },
  "language_info": {
   "codemirror_mode": {
    "name": "ipython",
    "version": 3
   },
   "file_extension": ".py",
   "mimetype": "text/x-python",
   "name": "python",
   "nbconvert_exporter": "python",
   "pygments_lexer": "ipython3",
   "version": "3.5.0"
  }
 },
 "nbformat": 4,
 "nbformat_minor": 2
}
